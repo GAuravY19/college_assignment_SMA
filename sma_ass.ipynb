{
 "cells": [
  {
   "cell_type": "code",
   "execution_count": 4,
   "id": "e3258518",
   "metadata": {},
   "outputs": [],
   "source": [
    "import os\n",
    "import pandas as pd\n",
    "import json\n",
    "import matplotlib.pyplot as plt"
   ]
  },
  {
   "cell_type": "code",
   "execution_count": 5,
   "id": "db9ee7ff",
   "metadata": {},
   "outputs": [],
   "source": [
    "import folium\n",
    "from folium.plugins import HeatMap"
   ]
  },
  {
   "cell_type": "code",
   "execution_count": 5,
   "id": "971424d3",
   "metadata": {},
   "outputs": [
    {
     "name": "stdout",
     "output_type": "stream",
     "text": [
      "Total no. of files: 10\n"
     ]
    }
   ],
   "source": [
    "dir_path = 'D:\\data\\college_assignment_SMA\\dataset'\n",
    "files = os.listdir(dir_path)\n",
    "print(\"Total no. of files:\", len(files))"
   ]
  },
  {
   "cell_type": "code",
   "execution_count": 6,
   "id": "ec02eefa",
   "metadata": {},
   "outputs": [
    {
     "name": "stdout",
     "output_type": "stream",
     "text": [
      "27019\n"
     ]
    }
   ],
   "source": [
    "with open(os.path.join(dir_path, files[0])) as f:\n",
    "    json_object = json.load(f)\n",
    "\n",
    "print(len(json_object))"
   ]
  },
  {
   "cell_type": "code",
   "execution_count": 7,
   "id": "43f02239",
   "metadata": {},
   "outputs": [
    {
     "name": "stdout",
     "output_type": "stream",
     "text": [
      "The keys in data are: ['full_text', 'text_translation', 'created_at', 'screen_name', 'description', 'desc_translation', 'weekofyear', 'weekday', 'day', 'month', 'year', 'location', 'point_info', 'point', 'latitude', 'longitude', 'altitude', 'province', 'hisco_standard', 'hisco_code', 'industry', 'sentiment_pattern', 'subjective_pattern']\n"
     ]
    }
   ],
   "source": [
    "keys = list(json_object[0].keys())\n",
    "print(\"The keys in data are:\", keys)"
   ]
  },
  {
   "cell_type": "code",
   "execution_count": 8,
   "id": "40566c86",
   "metadata": {},
   "outputs": [],
   "source": [
    "df_main = pd.DataFrame(data = {}, columns = keys)"
   ]
  },
  {
   "cell_type": "code",
   "execution_count": 9,
   "id": "6cc9f671",
   "metadata": {},
   "outputs": [
    {
     "data": {
      "text/plain": [
       "[]"
      ]
     },
     "execution_count": 9,
     "metadata": {},
     "output_type": "execute_result"
    }
   ],
   "source": [
    "df_main.columns[df_main.columns.duplicated()].to_list()"
   ]
  },
  {
   "cell_type": "code",
   "execution_count": 10,
   "id": "22e52256",
   "metadata": {},
   "outputs": [
    {
     "name": "stderr",
     "output_type": "stream",
     "text": [
      "C:\\Users\\sunil\\AppData\\Local\\Temp\\ipykernel_23916\\3838850695.py:4: FutureWarning: The behavior of DataFrame concatenation with empty or all-NA entries is deprecated. In a future version, this will no longer exclude empty or all-NA columns when determining the result dtypes. To retain the old behavior, exclude the relevant entries before the concat operation.\n",
      "  df_main = pd.concat([df_main, pd.DataFrame(json_obj)], ignore_index=True)\n"
     ]
    },
    {
     "name": "stdout",
     "output_type": "stream",
     "text": [
      "(271342, 23)\n"
     ]
    }
   ],
   "source": [
    "for i in range(len(files)):\n",
    "  with open(os.path.join(dir_path, files[i])) as f:\n",
    "    json_obj = json.load(f)\n",
    "    df_main = pd.concat([df_main, pd.DataFrame(json_obj)], ignore_index=True)\n",
    "\n",
    "print(df_main.shape)"
   ]
  },
  {
   "cell_type": "code",
   "execution_count": 11,
   "id": "c6295b5d",
   "metadata": {},
   "outputs": [],
   "source": [
    "df = df_main.copy()"
   ]
  },
  {
   "cell_type": "code",
   "execution_count": 12,
   "id": "07fa331c",
   "metadata": {},
   "outputs": [
    {
     "data": {
      "text/html": [
       "<div>\n",
       "<style scoped>\n",
       "    .dataframe tbody tr th:only-of-type {\n",
       "        vertical-align: middle;\n",
       "    }\n",
       "\n",
       "    .dataframe tbody tr th {\n",
       "        vertical-align: top;\n",
       "    }\n",
       "\n",
       "    .dataframe thead th {\n",
       "        text-align: right;\n",
       "    }\n",
       "</style>\n",
       "<table border=\"1\" class=\"dataframe\">\n",
       "  <thead>\n",
       "    <tr style=\"text-align: right;\">\n",
       "      <th></th>\n",
       "      <th>full_text</th>\n",
       "      <th>text_translation</th>\n",
       "      <th>created_at</th>\n",
       "      <th>screen_name</th>\n",
       "      <th>description</th>\n",
       "      <th>desc_translation</th>\n",
       "      <th>weekofyear</th>\n",
       "      <th>weekday</th>\n",
       "      <th>day</th>\n",
       "      <th>month</th>\n",
       "      <th>...</th>\n",
       "      <th>point</th>\n",
       "      <th>latitude</th>\n",
       "      <th>longitude</th>\n",
       "      <th>altitude</th>\n",
       "      <th>province</th>\n",
       "      <th>hisco_standard</th>\n",
       "      <th>hisco_code</th>\n",
       "      <th>industry</th>\n",
       "      <th>sentiment_pattern</th>\n",
       "      <th>subjective_pattern</th>\n",
       "    </tr>\n",
       "  </thead>\n",
       "  <tbody>\n",
       "    <tr>\n",
       "      <th>0</th>\n",
       "      <td>@pflegearzt @Friedelkorn @LAguja44 Pardon, wol...</td>\n",
       "      <td>@pflegearzt @Friedelkorn @ LAguja44 Pardon wol...</td>\n",
       "      <td>1583756789000</td>\n",
       "      <td>TheoRettich</td>\n",
       "      <td>I ❤️science, therefore a Commie.   ☭ FALGSC: P...</td>\n",
       "      <td>I ❤️science, Therefore a Commie. ☭ FALGSC: Par...</td>\n",
       "      <td>11</td>\n",
       "      <td>0</td>\n",
       "      <td>9</td>\n",
       "      <td>3</td>\n",
       "      <td>...</td>\n",
       "      <td>(52.5001698, 5.7480821, 0.0)</td>\n",
       "      <td>52.50017</td>\n",
       "      <td>5.748082</td>\n",
       "      <td>0.0</td>\n",
       "      <td>Flevoland</td>\n",
       "      <td>None</td>\n",
       "      <td>None</td>\n",
       "      <td>False</td>\n",
       "      <td>0.0</td>\n",
       "      <td>0.0</td>\n",
       "    </tr>\n",
       "    <tr>\n",
       "      <th>1</th>\n",
       "      <td>RT @grantshapps: Aviation demand is reduced du...</td>\n",
       "      <td>RT @grantshapps: Aviation demand is reduced du...</td>\n",
       "      <td>1583756794000</td>\n",
       "      <td>davidiwanow</td>\n",
       "      <td>I tweet a lot but love to engage &amp; converse. P...</td>\n",
       "      <td>I tweet a lot but love to engage and converse....</td>\n",
       "      <td>11</td>\n",
       "      <td>0</td>\n",
       "      <td>9</td>\n",
       "      <td>3</td>\n",
       "      <td>...</td>\n",
       "      <td>(52.3727598, 4.8936041, 0.0)</td>\n",
       "      <td>52.37276</td>\n",
       "      <td>4.893604</td>\n",
       "      <td>0.0</td>\n",
       "      <td>Noord-Holland</td>\n",
       "      <td>None</td>\n",
       "      <td>None</td>\n",
       "      <td>False</td>\n",
       "      <td>0.0</td>\n",
       "      <td>0.0</td>\n",
       "    </tr>\n",
       "    <tr>\n",
       "      <th>2</th>\n",
       "      <td>RT @DDStandaard: De droom van D66 wordt werkel...</td>\n",
       "      <td>RT @DDStandaard: The D66 dream come true: COVI...</td>\n",
       "      <td>1583756797000</td>\n",
       "      <td>EricL65</td>\n",
       "      <td>None</td>\n",
       "      <td>None</td>\n",
       "      <td>11</td>\n",
       "      <td>0</td>\n",
       "      <td>9</td>\n",
       "      <td>3</td>\n",
       "      <td>...</td>\n",
       "      <td>None</td>\n",
       "      <td>NaN</td>\n",
       "      <td>NaN</td>\n",
       "      <td>0.0</td>\n",
       "      <td>False</td>\n",
       "      <td>None</td>\n",
       "      <td>None</td>\n",
       "      <td>False</td>\n",
       "      <td>0.0</td>\n",
       "      <td>0.0</td>\n",
       "    </tr>\n",
       "    <tr>\n",
       "      <th>3</th>\n",
       "      <td>RT @DDStandaard: De droom van D66 wordt werkel...</td>\n",
       "      <td>RT @DDStandaard: The D66 dream come true: COVI...</td>\n",
       "      <td>1583756797000</td>\n",
       "      <td>EricL65</td>\n",
       "      <td>None</td>\n",
       "      <td>None</td>\n",
       "      <td>11</td>\n",
       "      <td>0</td>\n",
       "      <td>9</td>\n",
       "      <td>3</td>\n",
       "      <td>...</td>\n",
       "      <td>None</td>\n",
       "      <td>NaN</td>\n",
       "      <td>NaN</td>\n",
       "      <td>0.0</td>\n",
       "      <td>False</td>\n",
       "      <td>None</td>\n",
       "      <td>None</td>\n",
       "      <td>False</td>\n",
       "      <td>0.0</td>\n",
       "      <td>0.0</td>\n",
       "    </tr>\n",
       "    <tr>\n",
       "      <th>4</th>\n",
       "      <td>De droom van D66 wordt werkelijkheid: COVID-19...</td>\n",
       "      <td>The D66 dream becomes reality: COVID-19 super ...</td>\n",
       "      <td>1583756807000</td>\n",
       "      <td>EhrErwin</td>\n",
       "      <td>Budget-Life Coach. Time management Coaching. b...</td>\n",
       "      <td>Budget-Life Coach. Time management coaching. h...</td>\n",
       "      <td>11</td>\n",
       "      <td>0</td>\n",
       "      <td>9</td>\n",
       "      <td>3</td>\n",
       "      <td>...</td>\n",
       "      <td>(52.3727598, 4.8936041, 0.0)</td>\n",
       "      <td>52.37276</td>\n",
       "      <td>4.893604</td>\n",
       "      <td>0.0</td>\n",
       "      <td>Noord-Holland</td>\n",
       "      <td>None</td>\n",
       "      <td>None</td>\n",
       "      <td>False</td>\n",
       "      <td>0.0</td>\n",
       "      <td>0.0</td>\n",
       "    </tr>\n",
       "  </tbody>\n",
       "</table>\n",
       "<p>5 rows × 23 columns</p>\n",
       "</div>"
      ],
      "text/plain": [
       "                                           full_text  \\\n",
       "0  @pflegearzt @Friedelkorn @LAguja44 Pardon, wol...   \n",
       "1  RT @grantshapps: Aviation demand is reduced du...   \n",
       "2  RT @DDStandaard: De droom van D66 wordt werkel...   \n",
       "3  RT @DDStandaard: De droom van D66 wordt werkel...   \n",
       "4  De droom van D66 wordt werkelijkheid: COVID-19...   \n",
       "\n",
       "                                    text_translation     created_at  \\\n",
       "0  @pflegearzt @Friedelkorn @ LAguja44 Pardon wol...  1583756789000   \n",
       "1  RT @grantshapps: Aviation demand is reduced du...  1583756794000   \n",
       "2  RT @DDStandaard: The D66 dream come true: COVI...  1583756797000   \n",
       "3  RT @DDStandaard: The D66 dream come true: COVI...  1583756797000   \n",
       "4  The D66 dream becomes reality: COVID-19 super ...  1583756807000   \n",
       "\n",
       "   screen_name                                        description  \\\n",
       "0  TheoRettich  I ❤️science, therefore a Commie.   ☭ FALGSC: P...   \n",
       "1  davidiwanow  I tweet a lot but love to engage & converse. P...   \n",
       "2      EricL65                                               None   \n",
       "3      EricL65                                               None   \n",
       "4     EhrErwin  Budget-Life Coach. Time management Coaching. b...   \n",
       "\n",
       "                                    desc_translation weekofyear weekday day  \\\n",
       "0  I ❤️science, Therefore a Commie. ☭ FALGSC: Par...         11       0   9   \n",
       "1  I tweet a lot but love to engage and converse....         11       0   9   \n",
       "2                                               None         11       0   9   \n",
       "3                                               None         11       0   9   \n",
       "4  Budget-Life Coach. Time management coaching. h...         11       0   9   \n",
       "\n",
       "  month  ...                         point  latitude longitude altitude  \\\n",
       "0     3  ...  (52.5001698, 5.7480821, 0.0)  52.50017  5.748082      0.0   \n",
       "1     3  ...  (52.3727598, 4.8936041, 0.0)  52.37276  4.893604      0.0   \n",
       "2     3  ...                          None       NaN       NaN      0.0   \n",
       "3     3  ...                          None       NaN       NaN      0.0   \n",
       "4     3  ...  (52.3727598, 4.8936041, 0.0)  52.37276  4.893604      0.0   \n",
       "\n",
       "        province  hisco_standard  hisco_code industry sentiment_pattern  \\\n",
       "0      Flevoland            None        None    False               0.0   \n",
       "1  Noord-Holland            None        None    False               0.0   \n",
       "2          False            None        None    False               0.0   \n",
       "3          False            None        None    False               0.0   \n",
       "4  Noord-Holland            None        None    False               0.0   \n",
       "\n",
       "  subjective_pattern  \n",
       "0                0.0  \n",
       "1                0.0  \n",
       "2                0.0  \n",
       "3                0.0  \n",
       "4                0.0  \n",
       "\n",
       "[5 rows x 23 columns]"
      ]
     },
     "execution_count": 12,
     "metadata": {},
     "output_type": "execute_result"
    }
   ],
   "source": [
    "df.head()"
   ]
  },
  {
   "cell_type": "code",
   "execution_count": 13,
   "id": "0c50b9b7",
   "metadata": {},
   "outputs": [
    {
     "name": "stdout",
     "output_type": "stream",
     "text": [
      "(271342, 6)\n"
     ]
    }
   ],
   "source": [
    "df_map = df[['created_at', 'location', 'latitude', 'longitude', 'altitude', 'province']]\n",
    "df_map.head()\n",
    "print(df_map.shape)"
   ]
  },
  {
   "cell_type": "code",
   "execution_count": 15,
   "id": "2c84ded0",
   "metadata": {},
   "outputs": [
    {
     "name": "stderr",
     "output_type": "stream",
     "text": [
      "C:\\Users\\sunil\\AppData\\Local\\Temp\\ipykernel_22328\\2587569966.py:1: SettingWithCopyWarning: \n",
      "A value is trying to be set on a copy of a slice from a DataFrame\n",
      "\n",
      "See the caveats in the documentation: https://pandas.pydata.org/pandas-docs/stable/user_guide/indexing.html#returning-a-view-versus-a-copy\n",
      "  df_map.dropna(subset=['longitude', 'latitude'], inplace=True)\n"
     ]
    }
   ],
   "source": [
    "df_map.dropna(subset=['longitude', 'latitude'], inplace=True)"
   ]
  },
  {
   "cell_type": "code",
   "execution_count": 16,
   "id": "48a47dd8",
   "metadata": {},
   "outputs": [],
   "source": [
    "df_map = df_map[(df_map['latitude'] >= -90) & (df_map['latitude'] <= 90)]\n",
    "df_map = df_map[(df_map['longitude'] >= -180) & (df_map['longitude'] <= 180)]"
   ]
  },
  {
   "cell_type": "code",
   "execution_count": 17,
   "id": "788a6e6b",
   "metadata": {},
   "outputs": [],
   "source": [
    "df_map['latitude'] = df_map['latitude'].round(4)\n",
    "df_map['longitude'] = df_map['longitude'].round(4)"
   ]
  },
  {
   "cell_type": "code",
   "execution_count": 18,
   "id": "f975b2dc",
   "metadata": {},
   "outputs": [
    {
     "data": {
      "text/plain": [
       "(134445, 6)"
      ]
     },
     "execution_count": 18,
     "metadata": {},
     "output_type": "execute_result"
    }
   ],
   "source": [
    "df_map.shape"
   ]
  },
  {
   "cell_type": "code",
   "execution_count": 19,
   "id": "6d8e1c0b",
   "metadata": {},
   "outputs": [],
   "source": [
    "df_group = df_map.drop(['location' ,'altitude','province'], axis='columns', inplace=True)"
   ]
  },
  {
   "cell_type": "code",
   "execution_count": null,
   "id": "0c941247",
   "metadata": {},
   "outputs": [],
   "source": [
    "map_center = [df_group['longitude'].mean(), df_group['latitude'].mean()]\n",
    "heat_map = folium.Map(locations = map_center, zoom_start=4)"
   ]
  },
  {
   "cell_type": "code",
   "execution_count": 25,
   "id": "ea857ab2",
   "metadata": {},
   "outputs": [
    {
     "data": {
      "text/plain": [
       "<folium.plugins.heat_map.HeatMap at 0x2374a13f0d0>"
      ]
     },
     "execution_count": 25,
     "metadata": {},
     "output_type": "execute_result"
    }
   ],
   "source": [
    "head_data = df_group[['latitude', 'longitude']].values.tolist()\n",
    "HeatMap(head_data, radius=10, blur=15, max_zoom=6).add_to(heat_map)"
   ]
  },
  {
   "cell_type": "code",
   "execution_count": 26,
   "id": "b4751a10",
   "metadata": {},
   "outputs": [],
   "source": [
    "image = \"dutch_heatmap.html\"\n",
    "heat_map.save(image)"
   ]
  },
  {
   "cell_type": "code",
   "execution_count": 14,
   "id": "2846bf25",
   "metadata": {},
   "outputs": [
    {
     "name": "stdout",
     "output_type": "stream",
     "text": [
      "0    @pflegearzt @Friedelkorn @LAguja44 Pardon, wol...\n",
      "1    RT @grantshapps: Aviation demand is reduced du...\n",
      "2    RT @DDStandaard: De droom van D66 wordt werkel...\n",
      "3    RT @DDStandaard: De droom van D66 wordt werkel...\n",
      "4    De droom van D66 wordt werkelijkheid: COVID-19...\n",
      "Name: full_text, dtype: object\n"
     ]
    }
   ],
   "source": [
    "print(df['full_text'].head())"
   ]
  },
  {
   "cell_type": "code",
   "execution_count": 15,
   "id": "643c9be8",
   "metadata": {},
   "outputs": [
    {
     "name": "stdout",
     "output_type": "stream",
     "text": [
      "0    @pflegearzt @Friedelkorn @ LAguja44 Pardon wol...\n",
      "1    RT @grantshapps: Aviation demand is reduced du...\n",
      "2    RT @DDStandaard: The D66 dream come true: COVI...\n",
      "3    RT @DDStandaard: The D66 dream come true: COVI...\n",
      "4    The D66 dream becomes reality: COVID-19 super ...\n",
      "Name: text_translation, dtype: object\n"
     ]
    }
   ],
   "source": [
    "print(df['text_translation'].head())"
   ]
  },
  {
   "cell_type": "code",
   "execution_count": 16,
   "id": "96540be1",
   "metadata": {},
   "outputs": [],
   "source": [
    "df_comments = df[['text_translation']]"
   ]
  },
  {
   "cell_type": "code",
   "execution_count": 1,
   "id": "3b613b6c",
   "metadata": {},
   "outputs": [
    {
     "name": "stderr",
     "output_type": "stream",
     "text": [
      "[nltk_data] Downloading package names to\n",
      "[nltk_data]     C:\\Users\\sunil\\AppData\\Roaming\\nltk_data...\n",
      "[nltk_data]   Unzipping corpora\\names.zip.\n",
      "[nltk_data] Downloading package stopwords to\n",
      "[nltk_data]     C:\\Users\\sunil\\AppData\\Roaming\\nltk_data...\n",
      "[nltk_data]   Unzipping corpora\\stopwords.zip.\n",
      "[nltk_data] Downloading package state_union to\n",
      "[nltk_data]     C:\\Users\\sunil\\AppData\\Roaming\\nltk_data...\n",
      "[nltk_data]   Unzipping corpora\\state_union.zip.\n",
      "[nltk_data] Downloading package twitter_samples to\n",
      "[nltk_data]     C:\\Users\\sunil\\AppData\\Roaming\\nltk_data...\n",
      "[nltk_data]   Unzipping corpora\\twitter_samples.zip.\n",
      "[nltk_data] Downloading package movie_reviews to\n",
      "[nltk_data]     C:\\Users\\sunil\\AppData\\Roaming\\nltk_data...\n",
      "[nltk_data]   Unzipping corpora\\movie_reviews.zip.\n",
      "[nltk_data] Downloading package averaged_perceptron_tagger to\n",
      "[nltk_data]     C:\\Users\\sunil\\AppData\\Roaming\\nltk_data...\n",
      "[nltk_data]   Package averaged_perceptron_tagger is already up-to-\n",
      "[nltk_data]       date!\n",
      "[nltk_data] Downloading package vader_lexicon to\n",
      "[nltk_data]     C:\\Users\\sunil\\AppData\\Roaming\\nltk_data...\n",
      "[nltk_data] Downloading package punkt to\n",
      "[nltk_data]     C:\\Users\\sunil\\AppData\\Roaming\\nltk_data...\n",
      "[nltk_data]   Package punkt is already up-to-date!\n"
     ]
    },
    {
     "data": {
      "text/plain": [
       "True"
      ]
     },
     "execution_count": 1,
     "metadata": {},
     "output_type": "execute_result"
    }
   ],
   "source": [
    "import nltk\n",
    "\n",
    "nltk.download([\n",
    "\"names\",\n",
    "\"stopwords\",\n",
    "\"state_union\",\n",
    "\"twitter_samples\",\n",
    "\"movie_reviews\",\n",
    "\"averaged_perceptron_tagger\",\n",
    "\"vader_lexicon\",\n",
    "\"punkt\",\n",
    "])"
   ]
  },
  {
   "cell_type": "code",
   "execution_count": 2,
   "id": "0879c3da",
   "metadata": {},
   "outputs": [],
   "source": [
    "from nltk.sentiment import SentimentIntensityAnalyzer"
   ]
  },
  {
   "cell_type": "code",
   "execution_count": 18,
   "id": "87389557",
   "metadata": {},
   "outputs": [],
   "source": [
    "sia = SentimentIntensityAnalyzer()"
   ]
  },
  {
   "cell_type": "code",
   "execution_count": 17,
   "id": "07d44575",
   "metadata": {},
   "outputs": [
    {
     "data": {
      "text/html": [
       "<div>\n",
       "<style scoped>\n",
       "    .dataframe tbody tr th:only-of-type {\n",
       "        vertical-align: middle;\n",
       "    }\n",
       "\n",
       "    .dataframe tbody tr th {\n",
       "        vertical-align: top;\n",
       "    }\n",
       "\n",
       "    .dataframe thead th {\n",
       "        text-align: right;\n",
       "    }\n",
       "</style>\n",
       "<table border=\"1\" class=\"dataframe\">\n",
       "  <thead>\n",
       "    <tr style=\"text-align: right;\">\n",
       "      <th></th>\n",
       "      <th>text_translation</th>\n",
       "    </tr>\n",
       "  </thead>\n",
       "  <tbody>\n",
       "    <tr>\n",
       "      <th>0</th>\n",
       "      <td>@pflegearzt @Friedelkorn @ LAguja44 Pardon wol...</td>\n",
       "    </tr>\n",
       "    <tr>\n",
       "      <th>1</th>\n",
       "      <td>RT @grantshapps: Aviation demand is reduced du...</td>\n",
       "    </tr>\n",
       "    <tr>\n",
       "      <th>2</th>\n",
       "      <td>RT @DDStandaard: The D66 dream come true: COVI...</td>\n",
       "    </tr>\n",
       "    <tr>\n",
       "      <th>3</th>\n",
       "      <td>RT @DDStandaard: The D66 dream come true: COVI...</td>\n",
       "    </tr>\n",
       "    <tr>\n",
       "      <th>4</th>\n",
       "      <td>The D66 dream becomes reality: COVID-19 super ...</td>\n",
       "    </tr>\n",
       "  </tbody>\n",
       "</table>\n",
       "</div>"
      ],
      "text/plain": [
       "                                    text_translation\n",
       "0  @pflegearzt @Friedelkorn @ LAguja44 Pardon wol...\n",
       "1  RT @grantshapps: Aviation demand is reduced du...\n",
       "2  RT @DDStandaard: The D66 dream come true: COVI...\n",
       "3  RT @DDStandaard: The D66 dream come true: COVI...\n",
       "4  The D66 dream becomes reality: COVID-19 super ..."
      ]
     },
     "execution_count": 17,
     "metadata": {},
     "output_type": "execute_result"
    }
   ],
   "source": [
    "df_comments.head()"
   ]
  },
  {
   "cell_type": "code",
   "execution_count": 21,
   "id": "555431dd",
   "metadata": {},
   "outputs": [
    {
     "name": "stderr",
     "output_type": "stream",
     "text": [
      "C:\\Users\\sunil\\AppData\\Local\\Temp\\ipykernel_23916\\2109278964.py:1: SettingWithCopyWarning: \n",
      "A value is trying to be set on a copy of a slice from a DataFrame\n",
      "\n",
      "See the caveats in the documentation: https://pandas.pydata.org/pandas-docs/stable/user_guide/indexing.html#returning-a-view-versus-a-copy\n",
      "  df_comments.dropna(inplace=True)\n"
     ]
    }
   ],
   "source": [
    "df_comments.dropna(inplace=True)"
   ]
  },
  {
   "cell_type": "code",
   "execution_count": 22,
   "id": "6b7fe78d",
   "metadata": {},
   "outputs": [],
   "source": [
    "def senti_analysis(text):\n",
    "    scores = sia.polarity_scores(text)\n",
    "    return scores['compound']"
   ]
  },
  {
   "cell_type": "code",
   "execution_count": 23,
   "id": "d4720e2b",
   "metadata": {},
   "outputs": [
    {
     "name": "stderr",
     "output_type": "stream",
     "text": [
      "C:\\Users\\sunil\\AppData\\Local\\Temp\\ipykernel_23916\\934117715.py:1: SettingWithCopyWarning: \n",
      "A value is trying to be set on a copy of a slice from a DataFrame.\n",
      "Try using .loc[row_indexer,col_indexer] = value instead\n",
      "\n",
      "See the caveats in the documentation: https://pandas.pydata.org/pandas-docs/stable/user_guide/indexing.html#returning-a-view-versus-a-copy\n",
      "  df_comments['sentiment_scores'] = df_comments['text_translation'].apply(senti_analysis)\n"
     ]
    }
   ],
   "source": [
    "df_comments['sentiment_scores'] = df_comments['text_translation'].apply(senti_analysis)"
   ]
  },
  {
   "cell_type": "code",
   "execution_count": 25,
   "id": "c15c3663",
   "metadata": {},
   "outputs": [],
   "source": [
    "def sentiments(scores):\n",
    "    if scores > 0.05:\n",
    "        return \"positive\"\n",
    "\n",
    "    elif scores <= -0.05:\n",
    "        return \"negative\"\n",
    "\n",
    "    else:\n",
    "        return \"neutral\""
   ]
  },
  {
   "cell_type": "code",
   "execution_count": 26,
   "id": "3b4f1f5f",
   "metadata": {},
   "outputs": [
    {
     "name": "stderr",
     "output_type": "stream",
     "text": [
      "C:\\Users\\sunil\\AppData\\Local\\Temp\\ipykernel_23916\\626586181.py:1: SettingWithCopyWarning: \n",
      "A value is trying to be set on a copy of a slice from a DataFrame.\n",
      "Try using .loc[row_indexer,col_indexer] = value instead\n",
      "\n",
      "See the caveats in the documentation: https://pandas.pydata.org/pandas-docs/stable/user_guide/indexing.html#returning-a-view-versus-a-copy\n",
      "  df_comments['sentiment_label'] = df_comments['sentiment_scores'].apply(sentiments)\n"
     ]
    }
   ],
   "source": [
    "df_comments['sentiment_label'] = df_comments['sentiment_scores'].apply(sentiments)"
   ]
  },
  {
   "cell_type": "code",
   "execution_count": 27,
   "id": "ecb0bcc5",
   "metadata": {},
   "outputs": [],
   "source": [
    "df_comments.to_csv(\"sentimentAnalysis.csv\", index = False)"
   ]
  },
  {
   "cell_type": "code",
   "execution_count": null,
   "id": "8309838f",
   "metadata": {},
   "outputs": [],
   "source": []
  }
 ],
 "metadata": {
  "kernelspec": {
   "display_name": "nenv",
   "language": "python",
   "name": "python3"
  },
  "language_info": {
   "codemirror_mode": {
    "name": "ipython",
    "version": 3
   },
   "file_extension": ".py",
   "mimetype": "text/x-python",
   "name": "python",
   "nbconvert_exporter": "python",
   "pygments_lexer": "ipython3",
   "version": "3.11.3"
  }
 },
 "nbformat": 4,
 "nbformat_minor": 5
}
